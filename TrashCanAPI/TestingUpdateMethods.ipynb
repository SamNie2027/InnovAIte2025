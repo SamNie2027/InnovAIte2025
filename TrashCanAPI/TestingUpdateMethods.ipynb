{
 "cells": [
  {
   "cell_type": "code",
   "execution_count": 1,
   "metadata": {},
   "outputs": [
    {
     "name": "stderr",
     "output_type": "stream",
     "text": [
      "c:\\Users\\krome\\OneDrive\\Desktop\\innovaite\\.venv\\Lib\\site-packages\\torchvision\\models\\_utils.py:208: UserWarning: The parameter 'pretrained' is deprecated since 0.13 and may be removed in the future, please use 'weights' instead.\n",
      "  warnings.warn(\n",
      "c:\\Users\\krome\\OneDrive\\Desktop\\innovaite\\.venv\\Lib\\site-packages\\torchvision\\models\\_utils.py:223: UserWarning: Arguments other than a weight enum or `None` for 'weights' are deprecated since 0.13 and may be removed in the future. The current behavior is equivalent to passing `weights=ResNet18_Weights.IMAGENET1K_V1`. You can also use `weights=ResNet18_Weights.DEFAULT` to get the most up-to-date weights.\n",
      "  warnings.warn(msg)\n"
     ]
    }
   ],
   "source": [
    "### Testing for updateTrashCanStatus\n",
    "from CompareImagesModel import *\n",
    "\n",
    "model = CompareImagesModel()"
   ]
  },
  {
   "cell_type": "code",
   "execution_count": 2,
   "metadata": {},
   "outputs": [],
   "source": [
    "import numpy as np\n",
    "import pandas as pd\n",
    "import os\n",
    "\n",
    "def load_image_paths_from_folders_to_df(base_path):\n",
    "    '''\n",
    "    Provide base path for images and will return a pandas dataframe with the image paths and labels.\n",
    "    '''\n",
    "    image_paths = []\n",
    "    labels = []\n",
    "    label_names = os.listdir(base_path)\n",
    "\n",
    "    for label_idx, label_name in enumerate(label_names):\n",
    "        label_folder = os.path.join(base_path, label_name)\n",
    "\n",
    "        if os.path.isdir(label_folder):\n",
    "            for image_name in os.listdir(label_folder):\n",
    "                image_path = os.path.join(label_folder, image_name)\n",
    "\n",
    "                if image_path.endswith(('.png', '.jpg', '.jpeg')):  # Filter by image extensions\n",
    "                    image_paths.append(image_path)\n",
    "                    labels.append(label_name)  # Label is the name of the folder in label_names\n",
    "\n",
    "    df = pd.DataFrame({'IMAGEPATH': image_paths, 'ID': labels })\n",
    "\n",
    "    return df"
   ]
  },
  {
   "cell_type": "code",
   "execution_count": 3,
   "metadata": {},
   "outputs": [],
   "source": [
    "Cleaned = \"../../Trash Cans Cleaned\"  # Replace with your destination path\n",
    "trashcan_images_df = load_image_paths_from_folders_to_df(Cleaned)\n",
    "trashcan_images_df['ID'] = trashcan_images_df['ID'].astype(int)"
   ]
  },
  {
   "cell_type": "code",
   "execution_count": 4,
   "metadata": {},
   "outputs": [
    {
     "data": {
      "text/plain": [
       "array([ 1, 17, 18, 19,  2, 20, 21, 22, 23, 24, 25, 26, 27, 28, 29, 30, 31,\n",
       "       32, 33, 38, 39,  4,  5,  6,  7])"
      ]
     },
     "execution_count": 4,
     "metadata": {},
     "output_type": "execute_result"
    }
   ],
   "source": [
    "trashcan_images_df[\"ID\"].unique()"
   ]
  },
  {
   "cell_type": "code",
   "execution_count": 5,
   "metadata": {},
   "outputs": [
    {
     "name": "stdout",
     "output_type": "stream",
     "text": [
      "<class 'numpy.ndarray'>\n",
      "0.84914136\n"
     ]
    }
   ],
   "source": [
    "from PIL import Image\n",
    "# Load the baseline image and extract its features\n",
    "trashcan_id = 21\n",
    "# get all image paths for trashcan of trashcan_id\n",
    "filtered_paths = trashcan_images_df[trashcan_images_df['ID'] == trashcan_id][\"IMAGEPATH\"].values\n",
    "print(type(filtered_paths))\n",
    "\n",
    "baseline_img = Image.open(filtered_paths[0])\n",
    "other_img = Image.open(filtered_paths[1])\n",
    "\n",
    "print(model.predict(baseline_img, other_img))"
   ]
  },
  {
   "cell_type": "code",
   "execution_count": 6,
   "metadata": {},
   "outputs": [
    {
     "ename": "NameError",
     "evalue": "name 'image' is not defined",
     "output_type": "error",
     "traceback": [
      "\u001b[1;31m---------------------------------------------------------------------------\u001b[0m",
      "\u001b[1;31mNameError\u001b[0m                                 Traceback (most recent call last)",
      "Cell \u001b[1;32mIn[6], line 2\u001b[0m\n\u001b[0;32m      1\u001b[0m \u001b[38;5;28;01mfrom\u001b[39;00m\u001b[38;5;250m \u001b[39m\u001b[38;5;21;01mupdateTrashCanStatus\u001b[39;00m\u001b[38;5;250m \u001b[39m\u001b[38;5;28;01mimport\u001b[39;00m matchTrashCanID\n\u001b[1;32m----> 2\u001b[0m trash_can_id \u001b[38;5;241m=\u001b[39m matchTrashCanID(\u001b[43mimage\u001b[49m, image_folder_path, trash_can_ids, model)\n",
      "\u001b[1;31mNameError\u001b[0m: name 'image' is not defined"
     ]
    }
   ],
   "source": [
    "from updateTrashCanStatus import matchTrashCanID\n",
    "trash_can_id = matchTrashCanID(image, image_folder_path, trash_can_ids, model)"
   ]
  }
 ],
 "metadata": {
  "kernelspec": {
   "display_name": ".venv",
   "language": "python",
   "name": "python3"
  },
  "language_info": {
   "codemirror_mode": {
    "name": "ipython",
    "version": 3
   },
   "file_extension": ".py",
   "mimetype": "text/x-python",
   "name": "python",
   "nbconvert_exporter": "python",
   "pygments_lexer": "ipython3",
   "version": "3.11.9"
  }
 },
 "nbformat": 4,
 "nbformat_minor": 2
}
