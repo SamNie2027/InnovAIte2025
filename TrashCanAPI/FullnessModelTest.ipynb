{
 "cells": [
  {
   "cell_type": "code",
   "id": "initial_id",
   "metadata": {
    "collapsed": true,
    "ExecuteTime": {
     "end_time": "2025-02-16T17:24:15.058247Z",
     "start_time": "2025-02-16T17:24:06.947875Z"
    }
   },
   "source": "from FullnessModel import  *",
   "outputs": [],
   "execution_count": 1
  },
  {
   "metadata": {
    "ExecuteTime": {
     "end_time": "2025-02-16T17:24:23.485693Z",
     "start_time": "2025-02-16T17:24:21.382682Z"
    }
   },
   "cell_type": "code",
   "source": "fullness_model = FullnessModel(load = True)",
   "id": "117e0d6e4be32015",
   "outputs": [
    {
     "name": "stdout",
     "output_type": "stream",
     "text": [
      "Found 112 images belonging to 2 classes.\n",
      "Found 27 images belonging to 2 classes.\n",
      "File found at ../../Fullness_model.h5\n"
     ]
    },
    {
     "name": "stderr",
     "output_type": "stream",
     "text": [
      "WARNING:absl:Compiled the loaded model, but the compiled metrics have yet to be built. `model.compile_metrics` will be empty until you train or evaluate the model.\n"
     ]
    },
    {
     "name": "stdout",
     "output_type": "stream",
     "text": [
      "Model loaded successfully!\n"
     ]
    }
   ],
   "execution_count": 2
  },
  {
   "metadata": {
    "ExecuteTime": {
     "end_time": "2025-02-16T17:26:52.365536Z",
     "start_time": "2025-02-16T17:26:52.098163Z"
    }
   },
   "cell_type": "code",
   "source": [
    "from PIL import Image\n",
    "img_path = '../fullt.jpg'\n",
    "img = Image.open(img_path)\n",
    "fullness_model.predict(img)"
   ],
   "id": "282d482359f208c2",
   "outputs": [
    {
     "name": "stdout",
     "output_type": "stream",
     "text": [
      "\u001B[1m1/1\u001B[0m \u001B[32m━━━━━━━━━━━━━━━━━━━━\u001B[0m\u001B[37m\u001B[0m \u001B[1m0s\u001B[0m 153ms/step\n"
     ]
    },
    {
     "data": {
      "text/plain": [
       "'Empty trash can'"
      ]
     },
     "execution_count": 11,
     "metadata": {},
     "output_type": "execute_result"
    }
   ],
   "execution_count": 11
  }
 ],
 "metadata": {
  "kernelspec": {
   "display_name": "Python 3",
   "language": "python",
   "name": "python3"
  },
  "language_info": {
   "codemirror_mode": {
    "name": "ipython",
    "version": 2
   },
   "file_extension": ".py",
   "mimetype": "text/x-python",
   "name": "python",
   "nbconvert_exporter": "python",
   "pygments_lexer": "ipython2",
   "version": "2.7.6"
  }
 },
 "nbformat": 4,
 "nbformat_minor": 5
}
