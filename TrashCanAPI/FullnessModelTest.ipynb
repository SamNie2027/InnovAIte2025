{
 "cells": [
  {
   "cell_type": "code",
   "execution_count": 1,
   "id": "initial_id",
   "metadata": {
    "ExecuteTime": {
     "end_time": "2025-02-16T17:24:15.058247Z",
     "start_time": "2025-02-16T17:24:06.947875Z"
    },
    "collapsed": true
   },
   "outputs": [],
   "source": [
    "from FullnessModel import  *"
   ]
  },
  {
   "cell_type": "code",
   "execution_count": 2,
   "id": "117e0d6e4be32015",
   "metadata": {
    "ExecuteTime": {
     "end_time": "2025-02-16T17:24:23.485693Z",
     "start_time": "2025-02-16T17:24:21.382682Z"
    }
   },
   "outputs": [
    {
     "name": "stdout",
     "output_type": "stream",
     "text": [
      "Found 112 images belonging to 2 classes.\n",
      "Found 27 images belonging to 2 classes.\n",
      "File Fullness_model.h5 not found.\n"
     ]
    }
   ],
   "source": [
    "fullness_model = FullnessModel(load = True)"
   ]
  },
  {
   "cell_type": "code",
   "execution_count": 5,
   "id": "282d482359f208c2",
   "metadata": {
    "ExecuteTime": {
     "end_time": "2025-02-16T17:26:52.365536Z",
     "start_time": "2025-02-16T17:26:52.098163Z"
    }
   },
   "outputs": [
    {
     "ename": "AttributeError",
     "evalue": "'NoneType' object has no attribute 'predict'",
     "output_type": "error",
     "traceback": [
      "\u001b[1;31m---------------------------------------------------------------------------\u001b[0m",
      "\u001b[1;31mAttributeError\u001b[0m                            Traceback (most recent call last)",
      "Cell \u001b[1;32mIn[5], line 4\u001b[0m\n\u001b[0;32m      2\u001b[0m img_path \u001b[38;5;241m=\u001b[39m \u001b[38;5;124mr\u001b[39m\u001b[38;5;124m'\u001b[39m\u001b[38;5;124mC:\u001b[39m\u001b[38;5;124m\\\u001b[39m\u001b[38;5;124mUsers\u001b[39m\u001b[38;5;124m\\\u001b[39m\u001b[38;5;124mkrome\u001b[39m\u001b[38;5;124m\\\u001b[39m\u001b[38;5;124mOneDrive\u001b[39m\u001b[38;5;124m\\\u001b[39m\u001b[38;5;124mDesktop\u001b[39m\u001b[38;5;124m\\\u001b[39m\u001b[38;5;124minnovaite\u001b[39m\u001b[38;5;124m\\\u001b[39m\u001b[38;5;124mTrash Cans Cleaned\u001b[39m\u001b[38;5;124m\\\u001b[39m\u001b[38;5;124m1\u001b[39m\u001b[38;5;124m\\\u001b[39m\u001b[38;5;124mIMG_0457.png\u001b[39m\u001b[38;5;124m'\u001b[39m\n\u001b[0;32m      3\u001b[0m img \u001b[38;5;241m=\u001b[39m Image\u001b[38;5;241m.\u001b[39mopen(img_path)\n\u001b[1;32m----> 4\u001b[0m \u001b[43mfullness_model\u001b[49m\u001b[38;5;241;43m.\u001b[39;49m\u001b[43mpredict\u001b[49m\u001b[43m(\u001b[49m\u001b[43mimg\u001b[49m\u001b[43m)\u001b[49m\n",
      "File \u001b[1;32mc:\\Users\\krome\\OneDrive\\Desktop\\innovaite\\InnovAIte2025\\TrashCanAPI\\FullnessModel.py:146\u001b[0m, in \u001b[0;36mFullnessModel.predict\u001b[1;34m(self, img)\u001b[0m\n\u001b[0;32m    143\u001b[0m img_array \u001b[38;5;241m=\u001b[39m img_array \u001b[38;5;241m/\u001b[39m \u001b[38;5;241m255.0\u001b[39m\n\u001b[0;32m    145\u001b[0m \u001b[38;5;66;03m# Make a prediction\u001b[39;00m\n\u001b[1;32m--> 146\u001b[0m prediction \u001b[38;5;241m=\u001b[39m \u001b[38;5;28;43mself\u001b[39;49m\u001b[38;5;241;43m.\u001b[39;49m\u001b[43mmodel\u001b[49m\u001b[38;5;241;43m.\u001b[39;49m\u001b[43mpredict\u001b[49m(img_array)\n\u001b[0;32m    148\u001b[0m \u001b[38;5;66;03m# Get class labels (Make sure train_generator is present and accessible)\u001b[39;00m\n\u001b[0;32m    149\u001b[0m class_indices \u001b[38;5;241m=\u001b[39m \u001b[38;5;28mself\u001b[39m\u001b[38;5;241m.\u001b[39mtrain_generator\u001b[38;5;241m.\u001b[39mclass_indices  \u001b[38;5;66;03m# Get the class indices\u001b[39;00m\n",
      "\u001b[1;31mAttributeError\u001b[0m: 'NoneType' object has no attribute 'predict'"
     ]
    }
   ],
   "source": [
    "from PIL import Image\n",
    "img_path = r'C:\\Users\\krome\\OneDrive\\Desktop\\innovaite\\Trash Cans Cleaned\\1\\IMG_0457.png'\n",
    "img = Image.open(img_path)\n",
    "fullness_model.predict(img)"
   ]
  }
 ],
 "metadata": {
  "kernelspec": {
   "display_name": ".venv",
   "language": "python",
   "name": "python3"
  },
  "language_info": {
   "codemirror_mode": {
    "name": "ipython",
    "version": 3
   },
   "file_extension": ".py",
   "mimetype": "text/x-python",
   "name": "python",
   "nbconvert_exporter": "python",
   "pygments_lexer": "ipython3",
   "version": "3.11.9"
  }
 },
 "nbformat": 4,
 "nbformat_minor": 5
}
