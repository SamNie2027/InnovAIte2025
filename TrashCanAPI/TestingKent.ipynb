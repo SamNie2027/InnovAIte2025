{
 "cells": [
  {
   "cell_type": "code",
   "execution_count": 1,
   "metadata": {},
   "outputs": [
    {
     "name": "stderr",
     "output_type": "stream",
     "text": [
      "c:\\Users\\krome\\OneDrive\\Desktop\\innovaite\\.venv\\Lib\\site-packages\\torchvision\\models\\_utils.py:208: UserWarning: The parameter 'pretrained' is deprecated since 0.13 and may be removed in the future, please use 'weights' instead.\n",
      "  warnings.warn(\n",
      "c:\\Users\\krome\\OneDrive\\Desktop\\innovaite\\.venv\\Lib\\site-packages\\torchvision\\models\\_utils.py:223: UserWarning: Arguments other than a weight enum or `None` for 'weights' are deprecated since 0.13 and may be removed in the future. The current behavior is equivalent to passing `weights=ResNet18_Weights.IMAGENET1K_V1`. You can also use `weights=ResNet18_Weights.DEFAULT` to get the most up-to-date weights.\n",
      "  warnings.warn(msg)\n"
     ]
    }
   ],
   "source": [
    "### Testing for updateTrashCanStatus\n",
    "from CompareImagesModel import *\n",
    "\n",
    "model = CompareImagesModel()"
   ]
  },
  {
   "cell_type": "code",
   "execution_count": 2,
   "metadata": {},
   "outputs": [],
   "source": [
    "import numpy as np\n",
    "import pandas as pd\n",
    "import os\n",
    "\n",
    "def load_image_paths_from_folders_to_df(base_path):\n",
    "    '''\n",
    "    Provide base path for images and will return a pandas dataframe with the image paths and labels.\n",
    "    '''\n",
    "    image_paths = []\n",
    "    labels = []\n",
    "    label_names = os.listdir(base_path)\n",
    "\n",
    "    for label_idx, label_name in enumerate(label_names):\n",
    "        label_folder = os.path.join(base_path, label_name)\n",
    "\n",
    "        if os.path.isdir(label_folder):\n",
    "            for image_name in os.listdir(label_folder):\n",
    "                image_path = os.path.join(label_folder, image_name)\n",
    "\n",
    "                if image_path.endswith(('.png', '.jpg', '.jpeg')):  # Filter by image extensions\n",
    "                    image_paths.append(image_path)\n",
    "                    labels.append(label_name)  # Label is the name of the folder in label_names\n",
    "\n",
    "    df = pd.DataFrame({'IMAGEPATH': image_paths, 'ID': labels })\n",
    "\n",
    "    return df"
   ]
  },
  {
   "cell_type": "code",
   "execution_count": 3,
   "metadata": {},
   "outputs": [],
   "source": [
    "Cleaned = \"../../Trash Cans Cleaned\"  # Replace with your destination path\n",
    "trashcan_images_df = load_image_paths_from_folders_to_df(Cleaned)\n",
    "trashcan_images_df['ID'] = trashcan_images_df['ID'].astype(int)"
   ]
  },
  {
   "cell_type": "code",
   "execution_count": 4,
   "metadata": {},
   "outputs": [
    {
     "data": {
      "text/plain": [
       "array([ 1, 17, 18, 19,  2, 20, 21, 22, 23, 24, 25, 26, 27, 28, 29, 30, 31,\n",
       "       32, 33, 38, 39,  4,  5,  6,  7])"
      ]
     },
     "execution_count": 4,
     "metadata": {},
     "output_type": "execute_result"
    }
   ],
   "source": [
    "trashcan_images_df[\"ID\"].unique()"
   ]
  },
  {
   "cell_type": "code",
   "execution_count": 5,
   "metadata": {},
   "outputs": [
    {
     "name": "stdout",
     "output_type": "stream",
     "text": [
      "<class 'numpy.ndarray'>\n",
      "0.84914136\n"
     ]
    }
   ],
   "source": [
    "from PIL import Image\n",
    "# Load the baseline image and extract its features\n",
    "trashcan_id = 21\n",
    "# get all image paths for trashcan of trashcan_id\n",
    "filtered_paths = trashcan_images_df[trashcan_images_df['ID'] == trashcan_id][\"IMAGEPATH\"].values\n",
    "print(type(filtered_paths))\n",
    "\n",
    "baseline_img = Image.open(filtered_paths[0])\n",
    "other_img = Image.open(filtered_paths[1])\n",
    "\n",
    "print(model.predict(baseline_img, other_img))"
   ]
  },
  {
   "cell_type": "code",
   "execution_count": 9,
   "metadata": {},
   "outputs": [
    {
     "name": "stdout",
     "output_type": "stream",
     "text": [
      "Expected: 20 Returned: 20\n"
     ]
    }
   ],
   "source": [
    "from updateTrashCanStatus import matchTrashCanID\n",
    "trash_can_ids = [19, 20, 21, 22]\n",
    "image_folder_paths = []\n",
    "for id in trash_can_ids:\n",
    "    paths = trashcan_images_df[trashcan_images_df['ID'] == id][\"IMAGEPATH\"].values\n",
    "    image_folder_paths.append(os.path.dirname(paths[0]))\n",
    "\n",
    "trashcan_id = 20\n",
    "filtered_paths = trashcan_images_df[trashcan_images_df['ID'] == trashcan_id][\"IMAGEPATH\"].values\n",
    "image = Image.open(filtered_paths[0])\n",
    "\n",
    "pred_id = matchTrashCanID(image, image_folder_paths, trash_can_ids, model)\n",
    "\n",
    "#print(trash_can_ids)\n",
    "#print(image_folder_paths)\n",
    "print(\"Expected:\", trashcan_id, \"Returned:\", pred_id)"
   ]
  },
  {
   "cell_type": "code",
   "execution_count": 10,
   "metadata": {},
   "outputs": [
    {
     "name": "stderr",
     "output_type": "stream",
     "text": [
      "ERROR: Could not find a version that satisfies the requirement sqlite3 (from versions: none)\n",
      "ERROR: No matching distribution found for sqlite3\n"
     ]
    }
   ],
   "source": [
    "! pip install sqlite3"
   ]
  },
  {
   "cell_type": "code",
   "execution_count": 14,
   "metadata": {},
   "outputs": [],
   "source": [
    "import sqlite3\n",
    "\n",
    "# Create (or connect to) the database\n",
    "conn = sqlite3.connect(\"database.db\")\n",
    "cursor = conn.cursor()\n",
    "\n",
    "# Read the .sql file\n",
    "with open(\"trash_can.sql\", \"r\") as f:\n",
    "    sql_script = f.read()\n",
    "\n",
    "# Execute the SQL script\n",
    "cursor.executescript(sql_script)\n",
    "\n",
    "# Commit and close\n",
    "conn.commit()\n",
    "conn.close()\n"
   ]
  },
  {
   "cell_type": "code",
   "execution_count": 5,
   "metadata": {},
   "outputs": [
    {
     "name": "stdout",
     "output_type": "stream",
     "text": [
      "Marking trash can 19 as FULL.\n",
      "\n",
      "Database Output:\n",
      "(19, 42.338979, -71.0885834, 1, '2025-02-16 07:21:28')\n"
     ]
    }
   ],
   "source": [
    "from updateTrashCanStatus import updateTrashCanStatus\n",
    "DATABASE_PATH = \"database.db\"\n",
    "import sqlite3\n",
    "\n",
    "# Call function after defining config\n",
    "trash_can_id = 19\n",
    "updateTrashCanStatus(trash_can_id, 1)\n",
    "\n",
    "# Connect to database and verify result\n",
    "try:\n",
    "    connection = sqlite3.connect(DATABASE_PATH)\n",
    "    cursor = connection.cursor()\n",
    "\n",
    "    # Query the updated row\n",
    "    cursor.execute(f\"SELECT * FROM trash_cans WHERE trash_can_id = {trash_can_id};\")\n",
    "    result = cursor.fetchone()\n",
    "\n",
    "    print(\"\\nDatabase Output:\")\n",
    "    print(result)  # This should print the updated trash can row\n",
    "\n",
    "except Exception as e:\n",
    "    print(f\"Database Error: {e}\")\n",
    "\n",
    "finally:\n",
    "    if cursor:\n",
    "        cursor.close()\n",
    "    if connection:\n",
    "        connection.close()"
   ]
  },
  {
   "cell_type": "code",
   "execution_count": null,
   "metadata": {},
   "outputs": [],
   "source": [
    "from updateTrashCanStatus import getNearbyTrashCanImages\n",
    "longitude, latitude = 42, -71\n",
    "image_folder_paths, trash_can_ids = getNearbyTrashCanImages(longitude, latitude, range=1)"
   ]
  }
 ],
 "metadata": {
  "kernelspec": {
   "display_name": ".venv",
   "language": "python",
   "name": "python3"
  },
  "language_info": {
   "codemirror_mode": {
    "name": "ipython",
    "version": 3
   },
   "file_extension": ".py",
   "mimetype": "text/x-python",
   "name": "python",
   "nbconvert_exporter": "python",
   "pygments_lexer": "ipython3",
   "version": "3.11.9"
  }
 },
 "nbformat": 4,
 "nbformat_minor": 2
}
